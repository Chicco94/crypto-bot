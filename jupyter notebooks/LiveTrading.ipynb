{
 "cells": [
  {
   "cell_type": "code",
   "execution_count": 1,
   "id": "65d1b391",
   "metadata": {},
   "outputs": [],
   "source": [
    "import pandas as pd\n",
    "import sqlalchemy\n",
    "from binance.client import Client\n",
    "from binance import BinanceSocketManager\n",
    "from key import api_key,secret_key"
   ]
  },
  {
   "cell_type": "code",
   "execution_count": 11,
   "id": "72fd34dd",
   "metadata": {},
   "outputs": [
    {
     "data": {
      "text/plain": [
       "<AxesSubplot:>"
      ]
     },
     "execution_count": 11,
     "metadata": {},
     "output_type": "execute_result"
    },
    {
     "data": {
      "image/png": "[encoded data removed]",
      "text/plain": [
       "<Figure size 432x288 with 1 Axes>"
      ]
     },
     "metadata": {
      "needs_background": "light"
     },
     "output_type": "display_data"
    }
   ],
   "source": [
    "client = Client(api_key,secret_key)\n",
    "symbol = 'ETHUSDT'\n",
    "engine = sqlalchemy.create_engine('sqlite:///{}stream.db'.format(symbol))\n",
    "df = pd.read_sql(symbol,engine)\n",
    "df.price.plot()"
   ]
  },
  {
   "cell_type": "code",
   "execution_count": null,
   "id": "de912f79",
   "metadata": {},
   "outputs": [],
   "source": [
    "def strategy(entry,lookback, qty, open_position=False):\n",
    "    while True:\n",
    "        # get fresh data\n",
    "        df = pd.read_sql('BTCUSDT',engine)\n",
    "        # take all rows of lookback\n",
    "        loopback_period = df.iloc[-lookback:]\n",
    "        # get cumulative return\n",
    "        cum_ret = (loopback_period.price.pct_change()+1).comprod() -1\n",
    "        if not open_position:\n",
    "            if cum_ret[cum_ret.last_valid_index()] > entry:\n",
    "                order = client.create_order(symbol='BTCUSDT',side='BUY',type='MARKET',quantity=qty)\n",
    "                print(order)\n",
    "                open_position = True\n",
    "                break\n",
    "    if open_position:\n",
    "        while True:\n",
    "            # get fresh data\n",
    "            df = pd.read_sql('BTCUSDT',engine)\n",
    "            # take all rows since last buy order\n",
    "            since_buy = df.loc[df.time > pd.to_datetime(order['transactTime'],unit='ms') ]\n",
    "            if len(sincebuy) > 1:\n",
    "                since_buy_ret = (since_buy.price.pct_change() +1).cumprod()-1\n",
    "                last_entry = since_buy_ret[since_buy_ret.last_valid_index()]\n",
    "                if last_entry > 0.0015 or last_entry < -0.0015:\n",
    "                    order = client.create_order(symbol='BTCUSDT',side='SELL',type='MARKET',quantity=qty)\n",
    "                    print(order)\n",
    "                    break"
   ]
  }
 ],
 "metadata": {
  "kernelspec": {
   "display_name": "Python 3 (ipykernel)",
   "language": "python",
   "name": "python3"
  },
  "language_info": {
   "codemirror_mode": {
    "name": "ipython",
    "version": 3
   },
   "file_extension": ".py",
   "mimetype": "text/x-python",
   "name": "python",
   "nbconvert_exporter": "python",
   "pygments_lexer": "ipython3",
   "version": "3.9.6"
  }
 },
 "nbformat": 4,
 "nbformat_minor": 5
}
