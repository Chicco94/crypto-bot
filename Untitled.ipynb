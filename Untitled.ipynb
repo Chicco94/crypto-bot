{
 "cells": [
  {
   "cell_type": "code",
   "execution_count": 1,
   "id": "13e20b4e",
   "metadata": {},
   "outputs": [],
   "source": [
    "from sklearn.linear_model import LinearRegression\n",
    "from sklearn.model_selection import train_test_split\n",
    "import pandas as pd\n",
    "import sqlalchemy\n",
    "from config import symbol\n",
    "import joblib"
   ]
  },
  {
   "cell_type": "code",
   "execution_count": 3,
   "id": "fb33eeab",
   "metadata": {},
   "outputs": [],
   "source": [
    "engine = sqlalchemy.create_engine('sqlite:///data/{}_stream.db'.format(symbol))\n",
    "df = pd.read_sql(symbol,engine)"
   ]
  },
  {
   "cell_type": "code",
   "execution_count": 114,
   "id": "f911ff7f",
   "metadata": {},
   "outputs": [],
   "source": [
    "df1 = df.copy()\n",
    "df2 = df.copy()\n",
    "df3 = df.copy()\n",
    "df4 = df.copy()"
   ]
  },
  {
   "cell_type": "code",
   "execution_count": 57,
   "id": "1fd6c650",
   "metadata": {},
   "outputs": [],
   "source": [
    "def remove_row_from_head(df):\n",
    "    df.drop(df.time.idxmin(),inplace=True)\n",
    "\n",
    "def remove_row_from_tail(df):\n",
    "    df.drop(len(df)-1,inplace=True)\n",
    "    \n",
    "def add_id(df):\n",
    "    df.insert(0, 'ID', range(0, 0 + len(df)))"
   ]
  },
  {
   "cell_type": "code",
   "execution_count": 115,
   "id": "609a65b7",
   "metadata": {},
   "outputs": [],
   "source": [
    "remove_row_from_head(df1)\n",
    "remove_row_from_head(df1)\n",
    "remove_row_from_head(df1)\n",
    "add_id(df1)\n",
    "df1.rename(columns={\"time\": \"time1\", \"price\": \"price1\",\"quantity\":\"quantity1\"},inplace=True)\n",
    "\n",
    "remove_row_from_tail(df2)\n",
    "remove_row_from_head(df2)\n",
    "remove_row_from_head(df2)\n",
    "add_id(df2)\n",
    "df2.rename(columns={\"time\": \"time2\", \"price\": \"price2\",\"quantity\":\"quantity2\"},inplace=True)\n",
    "\n",
    "remove_row_from_tail(df3)\n",
    "remove_row_from_tail(df3)\n",
    "remove_row_from_head(df3)\n",
    "add_id(df3)\n",
    "df3.rename(columns={\"time\": \"time3\", \"price\": \"price3\",\"quantity\":\"quantity3\"},inplace=True)\n",
    "\n",
    "remove_row_from_tail(df4)\n",
    "remove_row_from_tail(df4)\n",
    "remove_row_from_tail(df4)\n",
    "add_id(df4)\n",
    "df4.rename(columns={\"price\": \"price4\"},inplace=True)\n",
    "df4.drop(columns=['quantity', 'symbol','time'],inplace=True)"
   ]
  },
  {
   "cell_type": "code",
   "execution_count": 116,
   "id": "34c4f6fd",
   "metadata": {},
   "outputs": [
    {
     "data": {
      "text/plain": [
       "(   ID   symbol                   time1    price1   quantity1\n",
       " 3   0  BTCUSDT 2021-10-19 07:19:08.379  62040.30  0.01000000\n",
       " 4   1  BTCUSDT 2021-10-19 07:19:08.379  62040.00  0.01333000\n",
       " 5   2  BTCUSDT 2021-10-19 07:19:08.381  62040.00  0.00667000\n",
       " 6   3  BTCUSDT 2021-10-19 07:19:08.381  62039.96  0.01000000\n",
       " 7   4  BTCUSDT 2021-10-19 07:19:08.381  62039.94  0.01000000,\n",
       "    ID   symbol                   time2    price2   quantity2\n",
       " 2   0  BTCUSDT 2021-10-19 07:19:08.379  62044.33  0.02467000\n",
       " 3   1  BTCUSDT 2021-10-19 07:19:08.379  62040.30  0.01000000\n",
       " 4   2  BTCUSDT 2021-10-19 07:19:08.379  62040.00  0.01333000\n",
       " 5   3  BTCUSDT 2021-10-19 07:19:08.381  62040.00  0.00667000\n",
       " 6   4  BTCUSDT 2021-10-19 07:19:08.381  62039.96  0.01000000,\n",
       "    ID   symbol                   time3    price3   quantity3\n",
       " 1   0  BTCUSDT 2021-10-19 07:19:08.359  62044.33  0.00029000\n",
       " 2   1  BTCUSDT 2021-10-19 07:19:08.379  62044.33  0.02467000\n",
       " 3   2  BTCUSDT 2021-10-19 07:19:08.379  62040.30  0.01000000\n",
       " 4   3  BTCUSDT 2021-10-19 07:19:08.379  62040.00  0.01333000\n",
       " 5   4  BTCUSDT 2021-10-19 07:19:08.381  62040.00  0.00667000,\n",
       "    ID    price4\n",
       " 0   0  62044.33\n",
       " 1   1  62044.33\n",
       " 2   2  62044.33\n",
       " 3   3  62040.30\n",
       " 4   4  62040.00)"
      ]
     },
     "execution_count": 116,
     "metadata": {},
     "output_type": "execute_result"
    }
   ],
   "source": [
    "df1.head(), df2.head(), df3.head(), df4.head()"
   ]
  },
  {
   "cell_type": "code",
   "execution_count": 117,
   "id": "63de6972",
   "metadata": {},
   "outputs": [
    {
     "data": {
      "text/plain": [
       "(          ID   symbol                   time1    price1 quantity1\n",
       " 14890  14887  BTCUSDT 2021-10-19 12:57:08.158  62197.51   0.00025\n",
       " 14891  14888  BTCUSDT 2021-10-19 12:57:08.158  62197.51   0.00028\n",
       " 14892  14889  BTCUSDT 2021-10-19 12:57:08.158  62197.51    0.0009\n",
       " 14893  14890  BTCUSDT 2021-10-19 12:57:08.158  62197.51   0.00026\n",
       " 14894  14891  BTCUSDT 2021-10-19 12:57:08.158  62197.51   0.00028,\n",
       "           ID   symbol                   time2    price2 quantity2\n",
       " 14889  14887  BTCUSDT 2021-10-19 12:57:08.158  62197.51   0.00028\n",
       " 14890  14888  BTCUSDT 2021-10-19 12:57:08.158  62197.51   0.00025\n",
       " 14891  14889  BTCUSDT 2021-10-19 12:57:08.158  62197.51   0.00028\n",
       " 14892  14890  BTCUSDT 2021-10-19 12:57:08.158  62197.51    0.0009\n",
       " 14893  14891  BTCUSDT 2021-10-19 12:57:08.158  62197.51   0.00026,\n",
       "           ID   symbol                   time3    price3 quantity3\n",
       " 14888  14887  BTCUSDT 2021-10-19 12:57:08.158  62197.51   0.00038\n",
       " 14889  14888  BTCUSDT 2021-10-19 12:57:08.158  62197.51   0.00028\n",
       " 14890  14889  BTCUSDT 2021-10-19 12:57:08.158  62197.51   0.00025\n",
       " 14891  14890  BTCUSDT 2021-10-19 12:57:08.158  62197.51   0.00028\n",
       " 14892  14891  BTCUSDT 2021-10-19 12:57:08.158  62197.51    0.0009,\n",
       "           ID    price4\n",
       " 14887  14887  62197.51\n",
       " 14888  14888  62197.51\n",
       " 14889  14889  62197.51\n",
       " 14890  14890  62197.51\n",
       " 14891  14891  62197.51)"
      ]
     },
     "execution_count": 117,
     "metadata": {},
     "output_type": "execute_result"
    }
   ],
   "source": [
    "df1.tail(), df2.tail(), df3.tail(), df4.tail()"
   ]
  },
  {
   "cell_type": "code",
   "execution_count": 123,
   "id": "13239d67",
   "metadata": {},
   "outputs": [],
   "source": [
    "result = pd.merge(df1, df2, on=\"ID\")\n",
    "result = pd.merge(result, df3, on=\"ID\")"
   ]
  },
  {
   "cell_type": "code",
   "execution_count": 126,
   "id": "5c10df92",
   "metadata": {},
   "outputs": [
    {
     "data": {
      "text/html": [
       "<div>\n",
       "<style scoped>\n",
       "    .dataframe tbody tr th:only-of-type {\n",
       "        vertical-align: middle;\n",
       "    }\n",
       "\n",
       "    .dataframe tbody tr th {\n",
       "        vertical-align: top;\n",
       "    }\n",
       "\n",
       "    .dataframe thead th {\n",
       "        text-align: right;\n",
       "    }\n",
       "</style>\n",
       "<table border=\"1\" class=\"dataframe\">\n",
       "  <thead>\n",
       "    <tr style=\"text-align: right;\">\n",
       "      <th></th>\n",
       "      <th>ID</th>\n",
       "      <th>time1</th>\n",
       "      <th>price1</th>\n",
       "      <th>quantity1</th>\n",
       "      <th>symbol_y</th>\n",
       "      <th>time2</th>\n",
       "      <th>price2</th>\n",
       "      <th>quantity2</th>\n",
       "      <th>symbol</th>\n",
       "      <th>time3</th>\n",
       "      <th>price3</th>\n",
       "      <th>quantity3</th>\n",
       "    </tr>\n",
       "  </thead>\n",
       "  <tbody>\n",
       "    <tr>\n",
       "      <th>14887</th>\n",
       "      <td>14887</td>\n",
       "      <td>2021-10-19 12:57:08.158</td>\n",
       "      <td>62197.51</td>\n",
       "      <td>0.00025</td>\n",
       "      <td>BTCUSDT</td>\n",
       "      <td>2021-10-19 12:57:08.158</td>\n",
       "      <td>62197.51</td>\n",
       "      <td>0.00028</td>\n",
       "      <td>BTCUSDT</td>\n",
       "      <td>2021-10-19 12:57:08.158</td>\n",
       "      <td>62197.51</td>\n",
       "      <td>0.00038</td>\n",
       "    </tr>\n",
       "    <tr>\n",
       "      <th>14888</th>\n",
       "      <td>14888</td>\n",
       "      <td>2021-10-19 12:57:08.158</td>\n",
       "      <td>62197.51</td>\n",
       "      <td>0.00028</td>\n",
       "      <td>BTCUSDT</td>\n",
       "      <td>2021-10-19 12:57:08.158</td>\n",
       "      <td>62197.51</td>\n",
       "      <td>0.00025</td>\n",
       "      <td>BTCUSDT</td>\n",
       "      <td>2021-10-19 12:57:08.158</td>\n",
       "      <td>62197.51</td>\n",
       "      <td>0.00028</td>\n",
       "    </tr>\n",
       "    <tr>\n",
       "      <th>14889</th>\n",
       "      <td>14889</td>\n",
       "      <td>2021-10-19 12:57:08.158</td>\n",
       "      <td>62197.51</td>\n",
       "      <td>0.0009</td>\n",
       "      <td>BTCUSDT</td>\n",
       "      <td>2021-10-19 12:57:08.158</td>\n",
       "      <td>62197.51</td>\n",
       "      <td>0.00028</td>\n",
       "      <td>BTCUSDT</td>\n",
       "      <td>2021-10-19 12:57:08.158</td>\n",
       "      <td>62197.51</td>\n",
       "      <td>0.00025</td>\n",
       "    </tr>\n",
       "    <tr>\n",
       "      <th>14890</th>\n",
       "      <td>14890</td>\n",
       "      <td>2021-10-19 12:57:08.158</td>\n",
       "      <td>62197.51</td>\n",
       "      <td>0.00026</td>\n",
       "      <td>BTCUSDT</td>\n",
       "      <td>2021-10-19 12:57:08.158</td>\n",
       "      <td>62197.51</td>\n",
       "      <td>0.0009</td>\n",
       "      <td>BTCUSDT</td>\n",
       "      <td>2021-10-19 12:57:08.158</td>\n",
       "      <td>62197.51</td>\n",
       "      <td>0.00028</td>\n",
       "    </tr>\n",
       "    <tr>\n",
       "      <th>14891</th>\n",
       "      <td>14891</td>\n",
       "      <td>2021-10-19 12:57:08.158</td>\n",
       "      <td>62197.51</td>\n",
       "      <td>0.00028</td>\n",
       "      <td>BTCUSDT</td>\n",
       "      <td>2021-10-19 12:57:08.158</td>\n",
       "      <td>62197.51</td>\n",
       "      <td>0.00026</td>\n",
       "      <td>BTCUSDT</td>\n",
       "      <td>2021-10-19 12:57:08.158</td>\n",
       "      <td>62197.51</td>\n",
       "      <td>0.0009</td>\n",
       "    </tr>\n",
       "  </tbody>\n",
       "</table>\n",
       "</div>"
      ],
      "text/plain": [
       "          ID                   time1    price1 quantity1 symbol_y  \\\n",
       "14887  14887 2021-10-19 12:57:08.158  62197.51   0.00025  BTCUSDT   \n",
       "14888  14888 2021-10-19 12:57:08.158  62197.51   0.00028  BTCUSDT   \n",
       "14889  14889 2021-10-19 12:57:08.158  62197.51    0.0009  BTCUSDT   \n",
       "14890  14890 2021-10-19 12:57:08.158  62197.51   0.00026  BTCUSDT   \n",
       "14891  14891 2021-10-19 12:57:08.158  62197.51   0.00028  BTCUSDT   \n",
       "\n",
       "                        time2    price2 quantity2   symbol  \\\n",
       "14887 2021-10-19 12:57:08.158  62197.51   0.00028  BTCUSDT   \n",
       "14888 2021-10-19 12:57:08.158  62197.51   0.00025  BTCUSDT   \n",
       "14889 2021-10-19 12:57:08.158  62197.51   0.00028  BTCUSDT   \n",
       "14890 2021-10-19 12:57:08.158  62197.51    0.0009  BTCUSDT   \n",
       "14891 2021-10-19 12:57:08.158  62197.51   0.00026  BTCUSDT   \n",
       "\n",
       "                        time3    price3 quantity3  \n",
       "14887 2021-10-19 12:57:08.158  62197.51   0.00038  \n",
       "14888 2021-10-19 12:57:08.158  62197.51   0.00028  \n",
       "14889 2021-10-19 12:57:08.158  62197.51   0.00025  \n",
       "14890 2021-10-19 12:57:08.158  62197.51   0.00028  \n",
       "14891 2021-10-19 12:57:08.158  62197.51    0.0009  "
      ]
     },
     "execution_count": 126,
     "metadata": {},
     "output_type": "execute_result"
    }
   ],
   "source": [
    "result.tail()"
   ]
  },
  {
   "cell_type": "code",
   "execution_count": 125,
   "id": "f9da8db9",
   "metadata": {},
   "outputs": [],
   "source": [
    "result.drop(columns=['symbol_x'],inplace=True)"
   ]
  },
  {
   "cell_type": "code",
   "execution_count": 4,
   "id": "ce8bf7f2",
   "metadata": {},
   "outputs": [
    {
     "data": {
      "text/html": [
       "<div>\n",
       "<style scoped>\n",
       "    .dataframe tbody tr th:only-of-type {\n",
       "        vertical-align: middle;\n",
       "    }\n",
       "\n",
       "    .dataframe tbody tr th {\n",
       "        vertical-align: top;\n",
       "    }\n",
       "\n",
       "    .dataframe thead th {\n",
       "        text-align: right;\n",
       "    }\n",
       "</style>\n",
       "<table border=\"1\" class=\"dataframe\">\n",
       "  <thead>\n",
       "    <tr style=\"text-align: right;\">\n",
       "      <th></th>\n",
       "      <th>symbol</th>\n",
       "      <th>time</th>\n",
       "      <th>price</th>\n",
       "      <th>quantity</th>\n",
       "    </tr>\n",
       "  </thead>\n",
       "  <tbody>\n",
       "    <tr>\n",
       "      <th>18699</th>\n",
       "      <td>BTCUSDT</td>\n",
       "      <td>2021-10-19 14:09:32.652</td>\n",
       "      <td>62462.17</td>\n",
       "      <td>9.0e-05</td>\n",
       "    </tr>\n",
       "  </tbody>\n",
       "</table>\n",
       "</div>"
      ],
      "text/plain": [
       "        symbol                    time     price quantity\n",
       "18699  BTCUSDT 2021-10-19 14:09:32.652  62462.17  9.0e-05"
      ]
     },
     "execution_count": 4,
     "metadata": {},
     "output_type": "execute_result"
    }
   ],
   "source": [
    "df.iloc[-1:]"
   ]
  },
  {
   "cell_type": "code",
   "execution_count": 6,
   "id": "df34b375",
   "metadata": {},
   "outputs": [
    {
     "data": {
      "text/html": [
       "<div>\n",
       "<style scoped>\n",
       "    .dataframe tbody tr th:only-of-type {\n",
       "        vertical-align: middle;\n",
       "    }\n",
       "\n",
       "    .dataframe tbody tr th {\n",
       "        vertical-align: top;\n",
       "    }\n",
       "\n",
       "    .dataframe thead th {\n",
       "        text-align: right;\n",
       "    }\n",
       "</style>\n",
       "<table border=\"1\" class=\"dataframe\">\n",
       "  <thead>\n",
       "    <tr style=\"text-align: right;\">\n",
       "      <th></th>\n",
       "      <th>symbol</th>\n",
       "      <th>time</th>\n",
       "      <th>price</th>\n",
       "      <th>quantity</th>\n",
       "    </tr>\n",
       "  </thead>\n",
       "  <tbody>\n",
       "    <tr>\n",
       "      <th>18698</th>\n",
       "      <td>BTCUSDT</td>\n",
       "      <td>2021-10-19 14:09:32.631</td>\n",
       "      <td>62450.01</td>\n",
       "      <td>0.03391</td>\n",
       "    </tr>\n",
       "  </tbody>\n",
       "</table>\n",
       "</div>"
      ],
      "text/plain": [
       "        symbol                    time     price quantity\n",
       "18698  BTCUSDT 2021-10-19 14:09:32.631  62450.01  0.03391"
      ]
     },
     "execution_count": 6,
     "metadata": {},
     "output_type": "execute_result"
    }
   ],
   "source": [
    "df.iloc[-2:-1]"
   ]
  },
  {
   "cell_type": "code",
   "execution_count": 7,
   "id": "77f106fc",
   "metadata": {},
   "outputs": [
    {
     "data": {
      "text/html": [
       "<div>\n",
       "<style scoped>\n",
       "    .dataframe tbody tr th:only-of-type {\n",
       "        vertical-align: middle;\n",
       "    }\n",
       "\n",
       "    .dataframe tbody tr th {\n",
       "        vertical-align: top;\n",
       "    }\n",
       "\n",
       "    .dataframe thead th {\n",
       "        text-align: right;\n",
       "    }\n",
       "</style>\n",
       "<table border=\"1\" class=\"dataframe\">\n",
       "  <thead>\n",
       "    <tr style=\"text-align: right;\">\n",
       "      <th></th>\n",
       "      <th>symbol</th>\n",
       "      <th>time</th>\n",
       "      <th>price</th>\n",
       "      <th>quantity</th>\n",
       "    </tr>\n",
       "  </thead>\n",
       "  <tbody>\n",
       "    <tr>\n",
       "      <th>18697</th>\n",
       "      <td>BTCUSDT</td>\n",
       "      <td>2021-10-19 14:09:32.599</td>\n",
       "      <td>62450.01</td>\n",
       "      <td>0.00063</td>\n",
       "    </tr>\n",
       "  </tbody>\n",
       "</table>\n",
       "</div>"
      ],
      "text/plain": [
       "        symbol                    time     price quantity\n",
       "18697  BTCUSDT 2021-10-19 14:09:32.599  62450.01  0.00063"
      ]
     },
     "execution_count": 7,
     "metadata": {},
     "output_type": "execute_result"
    }
   ],
   "source": [
    "df.iloc[-3:-2]"
   ]
  }
 ],
 "metadata": {
  "kernelspec": {
   "display_name": "Python 3 (ipykernel)",
   "language": "python",
   "name": "python3"
  },
  "language_info": {
   "codemirror_mode": {
    "name": "ipython",
    "version": 3
   },
   "file_extension": ".py",
   "mimetype": "text/x-python",
   "name": "python",
   "nbconvert_exporter": "python",
   "pygments_lexer": "ipython3",
   "version": "3.9.6"
  }
 },
 "nbformat": 4,
 "nbformat_minor": 5
}
